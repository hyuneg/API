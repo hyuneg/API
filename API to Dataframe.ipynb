# 모듈 import
import requests
import pprint
### xml을 DataFrame으로 변환하기 ###
from os import name
import xml.etree.ElementTree as et
import pandas as pd
import bs4
from lxml import html
from urllib.parse import urlencode, quote_plus, unquote

#인증키 입력
encoding = 'CyW9AQ%2FhZvIIEUQFppkakWecJrY4MpuGPX6fiyY5t1U96lzz3ndsz3e1F4qKxz02pei%2BYPZ1BdymLI9zOJxKrg%3D%3D'
decoding = 'CyW9AQ/hZvIIEUQFppkakWecJrY4MpuGPX6fiyY5t1U96lzz3ndsz3e1F4qKxz02pei+YPZ1BdymLI9zOJxKrg=='

for y in ykihoset3:
  #url 입력 요청주소로 설정
  url = 'https://apis.data.go.kr/B551182/MadmDtlInfoService1/getEqpInfoV2'
  params ={'ServiceKey' : decoding , 'ykiho' : y}

  response = requests.get(url, params=params, verify=False) #verify설정 추가

  # xml 내용
  content = response.text

  #bs4 사용하여 item 태그 분리
  xml_obj = bs4.BeautifulSoup(content,'lxml-xml')
  node = xml_obj.find('item')
  dataset0 = pd.DataFrame()

  # check if node exists
  if node is None:
      dataset0['ykiho'] = y
      dataset1 = pd.concat([dataset1, dataset0])
      
  else:
    rows = xml_obj.findAll('item')

    # 각 행의 컬럼, 이름, 값을 가지는 리스트 만들기
    row_list = [] # 행값
    name_list = [] # 열이름값
    value_list = [] #데이터값

    # dataset0 초기 설정
    columns = rows[0].find_all()
    for j in range(0,len(columns)):
        # 컬럼명 저장
        name_list.append(columns[j].name)
        if (columns[j].text) is not None:
        # 컬럼의 각 데이터 값 저장
          value_list.append(columns[j].text)
    row_list.append(value_list)
    dataset0 = pd.DataFrame(row_list, columns = name_list)
    dataset0['ykiho'] = y
    name_list.insert(0, 'ykiho')
    dataset0 = dataset0[name_list]
    if y == ykihoset3[0]:
      dataset1 = dataset0
    else:
      dataset1 = pd.concat([dataset1, dataset0])


dataset1.to_csv('sample.csv', index=False, encoding='cp949')
